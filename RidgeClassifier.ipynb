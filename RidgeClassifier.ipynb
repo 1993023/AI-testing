{
 "cells": [
  {
   "cell_type": "markdown",
   "metadata": {},
   "source": [
    "# RidgeClassifier"
   ]
  },
  {
   "cell_type": "code",
   "execution_count": 1,
   "metadata": {},
   "outputs": [],
   "source": [
    "import os\n",
    "import pandas as pd\n",
    "import numpy as np\n",
    "import nltk\n",
    "import matplotlib.pyplot as plt\n",
    "%matplotlib inline \n",
    "import gensim\n",
    "from gensim import corpora,models,similarities\n",
    "from gensim.models import Word2Vec\n",
    "from sklearn.preprocessing import MinMaxScaler\n",
    "from sklearn.model_selection import train_test_split\n",
    "from sklearn.metrics import classification_report, confusion_matrix\n",
    "from sklearn.feature_extraction.text import TfidfVectorizer, CountVectorizer"
   ]
  },
  {
   "cell_type": "code",
   "execution_count": 2,
   "metadata": {
    "scrolled": true
   },
   "outputs": [
    {
     "name": "stderr",
     "output_type": "stream",
     "text": [
      "F:\\Anaconda\\lib\\site-packages\\ipykernel_launcher.py:4: SettingWithCopyWarning: \n",
      "A value is trying to be set on a copy of a slice from a DataFrame.\n",
      "Try using .loc[row_indexer,col_indexer] = value instead\n",
      "\n",
      "See the caveats in the documentation: http://pandas.pydata.org/pandas-docs/stable/indexing.html#indexing-view-versus-copy\n",
      "  after removing the cwd from sys.path.\n"
     ]
    }
   ],
   "source": [
    "df=pd.read_csv(\"Mock_data_combined.csv\",encoding=\"unicode_escape\")\n",
    "df.head()\n",
    "df1=df[[\"Code Chunck\",\"Indicator\"]]\n",
    "df1[\"Indicator\"]=df['Indicator'].astype(int)"
   ]
  },
  {
   "cell_type": "code",
   "execution_count": 3,
   "metadata": {},
   "outputs": [],
   "source": [
    "def ridge_clf():\n",
    "    # df.columns.tolist()\n",
    "    #Text Normalization\n",
    "    tokenized_case = df1['Code Chunck'].apply(lambda x: x.split())\n",
    "    bow_vectorizer = CountVectorizer(max_df =0.90,min_df=2,max_features=1000,stop_words='english')\n",
    "    bow=bow_vectorizer.fit_transform(df1['Code Chunck'])\n",
    "#     bow.shape\n",
    "    tfidf_vectorizer = TfidfVectorizer(max_df =0.90,min_df=2,max_features=1000,stop_words='english')\n",
    "    tfidf = tfidf_vectorizer.fit_transform(df1['Code Chunck'])\n",
    "    wordvec_arrays=np.zeros((len(tokenized_case),100))\n",
    "    for i in range(len(tokenized_case)):\n",
    "        wordvec_arrays[i,:]=word_vector(tokenized_case[i],100)\n",
    "        wordvec_df = pd.DataFrame(wordvec_arrays)\n",
    "    print(wordvec_df.shape)\n",
    "    return wordvec_df"
   ]
  },
  {
   "cell_type": "code",
   "execution_count": 4,
   "metadata": {},
   "outputs": [],
   "source": [
    "def word_vector(tokens,size):\n",
    "    tokenized_case = df1['Code Chunck'].apply(lambda x: x.split())#tokenizing\n",
    "    model_w2v = gensim.models.Word2Vec(tokenized_case,size=100,window=5,min_count=2,sg=1,hs=0,negative=10,workers=2,seed=34)\n",
    "    model_w2v.train(tokenized_case,total_examples = len(df1['Code Chunck']),epochs=20)\n",
    "#     model_w2v.wv.most_similar(positive='assert')\n",
    "#     len(model_w2v['assert'])\n",
    "    vec= np.zeros(size).reshape(1,size)\n",
    "    count=0.\n",
    "    for word in tokens:\n",
    "        try:\n",
    "            vec +=model_w2v[word].reshape((1,size))\n",
    "            count+=1.\n",
    "        except KeyError:\n",
    "            continue\n",
    "    if count!=0:\n",
    "        vec/=count\n",
    "    return vec      "
   ]
  },
  {
   "cell_type": "code",
   "execution_count": 5,
   "metadata": {},
   "outputs": [
    {
     "name": "stderr",
     "output_type": "stream",
     "text": [
      "F:\\Anaconda\\lib\\site-packages\\ipykernel_launcher.py:11: DeprecationWarning: Call to deprecated `__getitem__` (Method will be removed in 4.0.0, use self.wv.__getitem__() instead).\n",
      "  # This is added back by InteractiveShellApp.init_path()\n"
     ]
    },
    {
     "name": "stdout",
     "output_type": "stream",
     "text": [
      "(50, 100)\n"
     ]
    }
   ],
   "source": [
    "wordvec_df=ridge_clf()\n",
    "train_df=wordvec_df\n",
    "x=train_df\n",
    "target_df=df1[\"Indicator\"]\n",
    "y=target_df"
   ]
  },
  {
   "cell_type": "code",
   "execution_count": 6,
   "metadata": {},
   "outputs": [
    {
     "name": "stdout",
     "output_type": "stream",
     "text": [
      "32    0\n",
      "31    1\n",
      "40    0\n",
      "17    1\n",
      "5     1\n",
      "7     1\n",
      "45    0\n",
      "36    0\n",
      "13    0\n",
      "9     0\n",
      "15    0\n",
      "2     0\n",
      "22    0\n",
      "41    1\n",
      "6     1\n",
      "27    1\n",
      "38    1\n",
      "16    1\n",
      "39    1\n",
      "26    0\n",
      "3     1\n",
      "11    0\n",
      "46    1\n",
      "25    1\n",
      "35    1\n",
      "Name: Indicator, dtype: int32\n"
     ]
    }
   ],
   "source": [
    "x_training_data, x_test_data, y_training_data, y_test_data = train_test_split(x, y, test_size = 0.5)\n",
    "# print(x_training_data)\n",
    "# print(x_test_data)\n",
    "# print(y_training_data)\n",
    "print(y_test_data)"
   ]
  },
  {
   "cell_type": "markdown",
   "metadata": {},
   "source": [
    "# RidgeClassifier "
   ]
  },
  {
   "cell_type": "code",
   "execution_count": 7,
   "metadata": {},
   "outputs": [],
   "source": [
    "# # make a prediction with a ridge regression model on the dataset\n",
    "# from pandas import read_csv\n",
    "# from sklearn.linear_model import Ridge\n",
    "# from sklearn.linear_model import Ridge\n",
    "# import numpy as np\n",
    "# from sklearn.linear_model import Ridge\n",
    "\n",
    "# ## training the model\n",
    "\n",
    "# ridgeReg = Ridge(alpha=0.05, normalize=True)\n",
    "\n",
    "# ridgeReg.fit(x_training_data,y_training_data)\n",
    "\n",
    "# pred = ridgeReg.predict(x_test_data)\n",
    "# print(pred)\n",
    "\n",
    "# # calculating mse\n",
    "\n",
    "# mse = np.mean((pred - y_test_data)**2)\n",
    "# # mse"
   ]
  },
  {
   "cell_type": "code",
   "execution_count": 8,
   "metadata": {},
   "outputs": [
    {
     "data": {
      "text/plain": [
       "array([1, 1, 1, 1, 1, 1, 1, 1, 1, 1, 1, 1, 1, 1, 1, 1, 1, 1, 1, 1, 1, 1,\n",
       "       1, 1, 1])"
      ]
     },
     "execution_count": 8,
     "metadata": {},
     "output_type": "execute_result"
    }
   ],
   "source": [
    "from sklearn.linear_model import RidgeClassifier\n",
    "clf = RidgeClassifier().fit(x, y)\n",
    "pred = clf.predict(x_test_data)\n",
    "pred"
   ]
  },
  {
   "cell_type": "code",
   "execution_count": 9,
   "metadata": {},
   "outputs": [
    {
     "data": {
      "text/html": [
       "<div>\n",
       "<style scoped>\n",
       "    .dataframe tbody tr th:only-of-type {\n",
       "        vertical-align: middle;\n",
       "    }\n",
       "\n",
       "    .dataframe tbody tr th {\n",
       "        vertical-align: top;\n",
       "    }\n",
       "\n",
       "    .dataframe thead th {\n",
       "        text-align: right;\n",
       "    }\n",
       "</style>\n",
       "<table border=\"1\" class=\"dataframe\">\n",
       "  <thead>\n",
       "    <tr style=\"text-align: right;\">\n",
       "      <th></th>\n",
       "      <th>Ridge_Predicted_Indicator</th>\n",
       "    </tr>\n",
       "  </thead>\n",
       "  <tbody>\n",
       "    <tr>\n",
       "      <th>32</th>\n",
       "      <td>1</td>\n",
       "    </tr>\n",
       "    <tr>\n",
       "      <th>31</th>\n",
       "      <td>1</td>\n",
       "    </tr>\n",
       "    <tr>\n",
       "      <th>40</th>\n",
       "      <td>1</td>\n",
       "    </tr>\n",
       "    <tr>\n",
       "      <th>17</th>\n",
       "      <td>1</td>\n",
       "    </tr>\n",
       "    <tr>\n",
       "      <th>5</th>\n",
       "      <td>1</td>\n",
       "    </tr>\n",
       "    <tr>\n",
       "      <th>7</th>\n",
       "      <td>1</td>\n",
       "    </tr>\n",
       "    <tr>\n",
       "      <th>45</th>\n",
       "      <td>1</td>\n",
       "    </tr>\n",
       "    <tr>\n",
       "      <th>36</th>\n",
       "      <td>1</td>\n",
       "    </tr>\n",
       "    <tr>\n",
       "      <th>13</th>\n",
       "      <td>1</td>\n",
       "    </tr>\n",
       "    <tr>\n",
       "      <th>9</th>\n",
       "      <td>1</td>\n",
       "    </tr>\n",
       "    <tr>\n",
       "      <th>15</th>\n",
       "      <td>1</td>\n",
       "    </tr>\n",
       "    <tr>\n",
       "      <th>2</th>\n",
       "      <td>1</td>\n",
       "    </tr>\n",
       "    <tr>\n",
       "      <th>22</th>\n",
       "      <td>1</td>\n",
       "    </tr>\n",
       "    <tr>\n",
       "      <th>41</th>\n",
       "      <td>1</td>\n",
       "    </tr>\n",
       "    <tr>\n",
       "      <th>6</th>\n",
       "      <td>1</td>\n",
       "    </tr>\n",
       "    <tr>\n",
       "      <th>27</th>\n",
       "      <td>1</td>\n",
       "    </tr>\n",
       "    <tr>\n",
       "      <th>38</th>\n",
       "      <td>1</td>\n",
       "    </tr>\n",
       "    <tr>\n",
       "      <th>16</th>\n",
       "      <td>1</td>\n",
       "    </tr>\n",
       "    <tr>\n",
       "      <th>39</th>\n",
       "      <td>1</td>\n",
       "    </tr>\n",
       "    <tr>\n",
       "      <th>26</th>\n",
       "      <td>1</td>\n",
       "    </tr>\n",
       "    <tr>\n",
       "      <th>3</th>\n",
       "      <td>1</td>\n",
       "    </tr>\n",
       "    <tr>\n",
       "      <th>11</th>\n",
       "      <td>1</td>\n",
       "    </tr>\n",
       "    <tr>\n",
       "      <th>46</th>\n",
       "      <td>1</td>\n",
       "    </tr>\n",
       "    <tr>\n",
       "      <th>25</th>\n",
       "      <td>1</td>\n",
       "    </tr>\n",
       "    <tr>\n",
       "      <th>35</th>\n",
       "      <td>1</td>\n",
       "    </tr>\n",
       "  </tbody>\n",
       "</table>\n",
       "</div>"
      ],
      "text/plain": [
       "    Ridge_Predicted_Indicator\n",
       "32                          1\n",
       "31                          1\n",
       "40                          1\n",
       "17                          1\n",
       "5                           1\n",
       "7                           1\n",
       "45                          1\n",
       "36                          1\n",
       "13                          1\n",
       "9                           1\n",
       "15                          1\n",
       "2                           1\n",
       "22                          1\n",
       "41                          1\n",
       "6                           1\n",
       "27                          1\n",
       "38                          1\n",
       "16                          1\n",
       "39                          1\n",
       "26                          1\n",
       "3                           1\n",
       "11                          1\n",
       "46                          1\n",
       "25                          1\n",
       "35                          1"
      ]
     },
     "execution_count": 9,
     "metadata": {},
     "output_type": "execute_result"
    }
   ],
   "source": [
    "yprd_df=pd.DataFrame(pred,index=list(x_test_data.index.values))\n",
    "yprd_df=yprd_df.rename(columns={0:\"Ridge_Predicted_Indicator\"})\n",
    "yprd_df"
   ]
  },
  {
   "cell_type": "code",
   "execution_count": 10,
   "metadata": {},
   "outputs": [],
   "source": [
    "# df1=df1.join(yprd_df)\n",
    "# df1.to_csv(\"prediction.csv\",index=False)\n",
    "\n",
    "final_df=df1.iloc[list(x_test_data.index.values),:]\n",
    "final_df=pd.concat([final_df,yprd_df],axis=1)\n",
    "final_df\n",
    "final_df.to_csv(\"Ridge_prediction.csv\",index=False)"
   ]
  },
  {
   "cell_type": "code",
   "execution_count": 11,
   "metadata": {},
   "outputs": [
    {
     "data": {
      "text/plain": [
       "0.52"
      ]
     },
     "execution_count": 11,
     "metadata": {},
     "output_type": "execute_result"
    }
   ],
   "source": [
    "# calculating score \n",
    "clf.score(x, y)"
   ]
  },
  {
   "cell_type": "code",
   "execution_count": null,
   "metadata": {},
   "outputs": [],
   "source": []
  },
  {
   "cell_type": "code",
   "execution_count": null,
   "metadata": {},
   "outputs": [],
   "source": []
  }
 ],
 "metadata": {
  "kernelspec": {
   "display_name": "Python 3",
   "language": "python",
   "name": "python3"
  },
  "language_info": {
   "codemirror_mode": {
    "name": "ipython",
    "version": 3
   },
   "file_extension": ".py",
   "mimetype": "text/x-python",
   "name": "python",
   "nbconvert_exporter": "python",
   "pygments_lexer": "ipython3",
   "version": "3.7.3"
  }
 },
 "nbformat": 4,
 "nbformat_minor": 4
}
